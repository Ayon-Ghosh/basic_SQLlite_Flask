{
 "cells": [
  {
   "cell_type": "code",
   "execution_count": 1,
   "metadata": {},
   "outputs": [
    {
     "data": {
      "text/plain": [
       "<sqlite3.Cursor at 0x26b982ed2d0>"
      ]
     },
     "execution_count": 1,
     "metadata": {},
     "output_type": "execute_result"
    }
   ],
   "source": [
    "import sqlite3\n",
    "db = sqlite3.connect('my_database1.db')\n",
    "db.execute('drop table if exists grade1')\n",
    "db.execute(\"create table grade1(id int, name txt, score int)\")\n",
    "db.execute(\"insert into grade1(id,name,score) values(1,'John', 99)\")\n",
    "db.execute(\"insert into grade1(id,name,score) values(2,'Ayon', 90)\")\n",
    "db.execute(\"insert into grade1(id,name,score) values(3,'Lima', 89)\")\n",
    "db.execute(\"insert into grade1(id,name,score) values(4,'Prazel', 100)\")\n",
    "db.execute(\"insert into grade1(id,name,score) values(5,'Jason', 80)\")"
   ]
  },
  {
   "cell_type": "code",
   "execution_count": 2,
   "metadata": {
    "collapsed": true
   },
   "outputs": [],
   "source": [
    "db.commit()"
   ]
  },
  {
   "cell_type": "code",
   "execution_count": 3,
   "metadata": {},
   "outputs": [],
   "source": [
    "results = db.execute(\"select * from grade1 order by id\")"
   ]
  },
  {
   "cell_type": "code",
   "execution_count": 4,
   "metadata": {},
   "outputs": [
    {
     "name": "stdout",
     "output_type": "stream",
     "text": [
      "(1, 'John', 99)\n",
      "(2, 'Ayon', 90)\n",
      "(3, 'Lima', 89)\n",
      "(4, 'Prazel', 100)\n",
      "(5, 'Jason', 80)\n"
     ]
    }
   ],
   "source": [
    "for row in results:\n",
    "    print(row)"
   ]
  },
  {
   "cell_type": "markdown",
   "metadata": {},
   "source": [
    "or below as printing into a list"
   ]
  },
  {
   "cell_type": "code",
   "execution_count": 5,
   "metadata": {},
   "outputs": [
    {
     "data": {
      "text/plain": [
       "[(1, 'John', 99),\n",
       " (2, 'Ayon', 90),\n",
       " (3, 'Lima', 89),\n",
       " (4, 'Prazel', 100),\n",
       " (5, 'Jason', 80)]"
      ]
     },
     "execution_count": 5,
     "metadata": {},
     "output_type": "execute_result"
    }
   ],
   "source": [
    "results = db.execute(\"select * from grade1 order by id\")\n",
    "list(results)"
   ]
  },
  {
   "cell_type": "code",
   "execution_count": 6,
   "metadata": {},
   "outputs": [
    {
     "name": "stdout",
     "output_type": "stream",
     "text": [
      "(5, 'Jason', 80)\n",
      "(3, 'Lima', 89)\n",
      "(2, 'Ayon', 90)\n",
      "(1, 'John', 99)\n",
      "(4, 'Prazel', 100)\n"
     ]
    }
   ],
   "source": [
    "results = db.execute(\"select * from grade1 order by score\")\n",
    "for row in results:\n",
    "    print(row)"
   ]
  },
  {
   "cell_type": "markdown",
   "metadata": {},
   "source": [
    "order by score descending order"
   ]
  },
  {
   "cell_type": "code",
   "execution_count": 7,
   "metadata": {},
   "outputs": [
    {
     "name": "stdout",
     "output_type": "stream",
     "text": [
      "(4, 'Prazel', 100)\n",
      "(1, 'John', 99)\n",
      "(2, 'Ayon', 90)\n",
      "(3, 'Lima', 89)\n",
      "(5, 'Jason', 80)\n"
     ]
    }
   ],
   "source": [
    "results = db.execute(\"select * from grade1 order by score desc\")\n",
    "for row in results:\n",
    "    print(row)"
   ]
  },
  {
   "cell_type": "code",
   "execution_count": 8,
   "metadata": {},
   "outputs": [
    {
     "name": "stdout",
     "output_type": "stream",
     "text": [
      "(2, 'Ayon', 90)\n"
     ]
    }
   ],
   "source": [
    "results = db.execute(\"select * from grade1 where name =='Ayon'\")\n",
    "for row in results:\n",
    "    print(row)"
   ]
  },
  {
   "cell_type": "code",
   "execution_count": 9,
   "metadata": {},
   "outputs": [
    {
     "name": "stdout",
     "output_type": "stream",
     "text": [
      "(1, 'John', 99)\n",
      "(2, 'Ayon', 90)\n",
      "(3, 'Lima', 89)\n",
      "(4, 'Prazel', 100)\n"
     ]
    }
   ],
   "source": [
    "results = db.execute(\"select * from grade1 where score>=89\")\n",
    "for row in results:\n",
    "    print(row)"
   ]
  },
  {
   "cell_type": "code",
   "execution_count": 10,
   "metadata": {},
   "outputs": [
    {
     "name": "stdout",
     "output_type": "stream",
     "text": [
      "('Jason', 80)\n",
      "('Lima', 89)\n",
      "('Ayon', 90)\n",
      "('John', 99)\n",
      "('Prazel', 100)\n"
     ]
    }
   ],
   "source": [
    "results = db.execute(\"select name, score from grade1 order by score asc\")\n",
    "for row in results:\n",
    "    print(row)"
   ]
  },
  {
   "cell_type": "markdown",
   "metadata": {},
   "source": [
    "printing each row in list format instead of tuple - typecasting it as list"
   ]
  },
  {
   "cell_type": "code",
   "execution_count": 11,
   "metadata": {},
   "outputs": [
    {
     "name": "stdout",
     "output_type": "stream",
     "text": [
      "['Jason', 80]\n",
      "['Lima', 89]\n",
      "['Ayon', 90]\n",
      "['John', 99]\n",
      "['Prazel', 100]\n"
     ]
    }
   ],
   "source": [
    "results = db.execute(\"select name, score from grade1 order by score asc\")\n",
    "for row in results:\n",
    "    print(list(row))"
   ]
  },
  {
   "cell_type": "markdown",
   "metadata": {},
   "source": [
    "Another way for database connectivity"
   ]
  },
  {
   "cell_type": "code",
   "execution_count": 31,
   "metadata": {},
   "outputs": [
    {
     "data": {
      "text/plain": [
       "<sqlite3.Cursor at 0x26b983ab570>"
      ]
     },
     "execution_count": 31,
     "metadata": {},
     "output_type": "execute_result"
    }
   ],
   "source": [
    "import sqlite3\n",
    "db = sqlite3.connect('my_database2.db')\n",
    "db.execute('drop table if exists test')\n",
    "query = \"\"\"CREATE TABLE test(a VARCHAR(20), b VARCHAR(20),c REAL, d INTEGER);\"\"\"\n",
    "db.execute(query)"
   ]
  },
  {
   "cell_type": "code",
   "execution_count": 32,
   "metadata": {},
   "outputs": [],
   "source": [
    "data = [('Atlanta','Georgia',1.25, 6),\n",
    "        ('Albany','NewYork',2.6,4),\n",
    "        ('Sacremento','California',5.4,8)]\n",
    "smt = \"INSERT INTO test VALUES(?,?,?,?)\""
   ]
  },
  {
   "cell_type": "code",
   "execution_count": 33,
   "metadata": {},
   "outputs": [],
   "source": [
    "db.executemany(smt,data)\n",
    "db.commit()"
   ]
  },
  {
   "cell_type": "code",
   "execution_count": 34,
   "metadata": {},
   "outputs": [
    {
     "data": {
      "text/plain": [
       "[('Atlanta', 'Georgia', 1.25, 6),\n",
       " ('Albany', 'NewYork', 2.6, 4),\n",
       " ('Sacremento', 'California', 5.4, 8)]"
      ]
     },
     "execution_count": 34,
     "metadata": {},
     "output_type": "execute_result"
    }
   ],
   "source": [
    "cursor = db.execute('SELECT * FROM test')\n",
    "rows = cursor.fetchall()\n",
    "rows"
   ]
  },
  {
   "cell_type": "code",
   "execution_count": null,
   "metadata": {},
   "outputs": [],
   "source": []
  }
 ],
 "metadata": {
  "kernelspec": {
   "display_name": "Python 3",
   "language": "python",
   "name": "python3"
  },
  "language_info": {
   "codemirror_mode": {
    "name": "ipython",
    "version": 3
   },
   "file_extension": ".py",
   "mimetype": "text/x-python",
   "name": "python",
   "nbconvert_exporter": "python",
   "pygments_lexer": "ipython3",
   "version": "3.7.4"
  }
 },
 "nbformat": 4,
 "nbformat_minor": 2
}
